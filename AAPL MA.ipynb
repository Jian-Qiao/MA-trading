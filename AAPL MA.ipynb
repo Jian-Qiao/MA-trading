{
 "cells": [
  {
   "cell_type": "code",
   "execution_count": 1,
   "metadata": {
    "collapsed": true
   },
   "outputs": [],
   "source": [
    "import pandas as pd\n",
    "from pandas import Series, DataFrame\n",
    "import numpy as np\n",
    "import os"
   ]
  },
  {
   "cell_type": "code",
   "execution_count": 2,
   "metadata": {
    "collapsed": false
   },
   "outputs": [
    {
     "name": "stderr",
     "output_type": "stream",
     "text": [
      "C:\\Users\\jqiao\\AppData\\Local\\Continuum\\Anaconda2\\lib\\site-packages\\pandas\\io\\data.py:35: FutureWarning: \n",
      "The pandas.io.data module is moved to a separate package (pandas-datareader) and will be removed from pandas in a future version.\n",
      "After installing the pandas-datareader package (https://github.com/pydata/pandas-datareader), you can change the import ``from pandas.io import data, wb`` to ``from pandas_datareader import data, wb``.\n",
      "  FutureWarning)\n"
     ]
    }
   ],
   "source": [
    "import seaborn as sns\n",
    "import matplotlib.pyplot as plt\n",
    "from pandas.io.data import DataReader\n",
    "from datetime import datetime"
   ]
  },
  {
   "cell_type": "code",
   "execution_count": 3,
   "metadata": {
    "collapsed": false
   },
   "outputs": [],
   "source": [
    "tech_list=['AAPL','MSFT','GOOG','HON','BABA']\n",
    "#Symbols=pd.read_csv('C:\\Users\\jqiao\\Downloads\\companylist.csv').Symbol"
   ]
  },
  {
   "cell_type": "code",
   "execution_count": 4,
   "metadata": {
    "collapsed": false
   },
   "outputs": [],
   "source": [
    "end=datetime.now()\n",
    "start=datetime(end.year-1,end.month,end.day)\n",
    "global n\n",
    "n=0"
   ]
  },
  {
   "cell_type": "code",
   "execution_count": 5,
   "metadata": {
    "collapsed": false,
    "scrolled": false
   },
   "outputs": [
    {
     "name": "stderr",
     "output_type": "stream",
     "text": [
      "C:\\Users\\jqiao\\AppData\\Local\\Continuum\\Anaconda2\\lib\\site-packages\\ipykernel\\__main__.py:21: SettingWithCopyWarning: \n",
      "A value is trying to be set on a copy of a slice from a DataFrame\n",
      "\n",
      "See the caveats in the documentation: http://pandas.pydata.org/pandas-docs/stable/indexing.html#indexing-view-versus-copy\n",
      "C:\\Users\\jqiao\\AppData\\Local\\Continuum\\Anaconda2\\lib\\site-packages\\ipykernel\\__main__.py:24: SettingWithCopyWarning: \n",
      "A value is trying to be set on a copy of a slice from a DataFrame\n",
      "\n",
      "See the caveats in the documentation: http://pandas.pydata.org/pandas-docs/stable/indexing.html#indexing-view-versus-copy\n"
     ]
    }
   ],
   "source": [
    "for stock in tech_list:\n",
    "    globals()[stock]=DataReader(stock,'google',start,end)\n",
    "    n=n+1\n",
    "    ma_day=[5,10,30,50]\n",
    "\n",
    "    for ma in ma_day:\n",
    "        column_name=\"MA for %s days\" %(str(ma))\n",
    "        globals()[stock][column_name]=globals()[stock]['Close'].rolling(ma).mean()\n",
    "\n",
    "    globals()[stock]['MA for 30 days_first order']=globals()[stock]['MA for 30 days'].pct_change()\n",
    "\n",
    "\n",
    "    globals()[stock]['Long']=np.nan\n",
    "    globals()[stock]['Short']=np.nan\n",
    "\n",
    "\n",
    "    for i in np.arange(len(globals()[stock])-50)+50:\n",
    "        if (globals()[stock]['MA for 5 days']-globals()[stock]['MA for 10 days'])[i]*(globals()[stock]['MA for 5 days']-globals()[stock]['MA for 10 days'])[i-1]<0:\n",
    "            if (globals()[stock]['MA for 30 days_first order'][i]<0 and\n",
    "                globals()[stock]['Open'][i]<globals()[stock]['MA for 50 days'][i]):\n",
    "                globals()[stock]['Long'][i]=globals()[stock]['Open'][i]\n",
    "            elif (globals()[stock]['MA for 30 days_first order'][i]>0 and\n",
    "                globals()[stock]['Open'][i]>globals()[stock]['MA for 50 days'][i]):\n",
    "                globals()[stock]['Short'][i]=globals()[stock]['Open'][i]\n",
    "\n",
    "\n",
    "    plt.figure(n)\n",
    "    globals()[stock][['Close','MA for 5 days','MA for 10 days','MA for 30 days','MA for 50 days']].plot(figsize=(10,4))\n",
    "    plt.plot(globals()[stock].Long,marker='o',color='g')\n",
    "    plt.plot(globals()[stock].Short,marker='o',color='r')\n",
    "    plt.title(stock)\n",
    "    plt.savefig(os.path.join(\"C:\\Trail\",stock))\n",
    "    plt.close('all')"
   ]
  },
  {
   "cell_type": "code",
   "execution_count": null,
   "metadata": {
    "collapsed": true
   },
   "outputs": [],
   "source": []
  }
 ],
 "metadata": {
  "kernelspec": {
   "display_name": "Python 2",
   "language": "python",
   "name": "python2"
  },
  "language_info": {
   "codemirror_mode": {
    "name": "ipython",
    "version": 2
   },
   "file_extension": ".py",
   "mimetype": "text/x-python",
   "name": "python",
   "nbconvert_exporter": "python",
   "pygments_lexer": "ipython2",
   "version": "2.7.11"
  }
 },
 "nbformat": 4,
 "nbformat_minor": 0
}
